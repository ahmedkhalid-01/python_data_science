{
 "cells": [
  {
   "cell_type": "markdown",
   "id": "fadb1e4a-ca9c-47f7-9040-4015240c165b",
   "metadata": {},
   "source": [
    "### Project 3"
   ]
  },
  {
   "cell_type": "code",
   "execution_count": 1,
   "id": "000db898-f93a-40d0-b867-37441d5206dc",
   "metadata": {},
   "outputs": [],
   "source": [
    "import numpy as np\n",
    "import pandas as pd\n",
    "import matplotlib.pyplot as plt\n",
    "import os\n",
    "import warnings #ignore warnings"
   ]
  },
  {
   "cell_type": "code",
   "execution_count": 4,
   "id": "06f0412b-4227-4a9f-8fa6-c05a06fefd69",
   "metadata": {},
   "outputs": [],
   "source": [
    "warnings.filterwarnings('ignore')\n",
    "warnings.simplefilter('ignore')\n",
    "\n",
    "df = pd.read_csv(\"C:/Python/python_not_titanic/Combined File.csv\",\n",
    "                 usecols = [\"RecordTime\", \"Peer Comms Message Status 1\"],\n",
    "                 index_col= [\"RecordTime\"])\n",
    "# print(df)"
   ]
  },
  {
   "cell_type": "code",
   "execution_count": 5,
   "id": "215ea414-e7f3-46fc-889b-ed3e68fcba30",
   "metadata": {},
   "outputs": [],
   "source": [
    "# df['RecordTime'] = pd.to_datetime (df['RecordTime'])\n",
    "# #df.head()\n",
    "\n",
    "# df = df.set_index('RecordTime')\n",
    "# #print(df)"
   ]
  },
  {
   "cell_type": "code",
   "execution_count": null,
   "id": "b066b295-a53e-4791-b19c-814a95d09207",
   "metadata": {},
   "outputs": [],
   "source": [
    "from matplotlib.pyplot import figure\n",
    "figure(figsize=(20, 8), dpi=100)\n",
    "\n",
    "plt.plot(df['Peer Comms Message Status 1'])\n",
    "plt.xlabel(\"Record Time\")\n",
    "plt.ylabel(\"Peer Comms Message Status 1\")\n",
    "plt.show()"
   ]
  }
 ],
 "metadata": {
  "kernelspec": {
   "display_name": "python_not_titanic",
   "language": "python",
   "name": "python_not_titanic"
  },
  "language_info": {
   "codemirror_mode": {
    "name": "ipython",
    "version": 3
   },
   "file_extension": ".py",
   "mimetype": "text/x-python",
   "name": "python",
   "nbconvert_exporter": "python",
   "pygments_lexer": "ipython3",
   "version": "3.9.12"
  }
 },
 "nbformat": 4,
 "nbformat_minor": 5
}
