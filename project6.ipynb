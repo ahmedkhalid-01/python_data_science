{
 "cells": [
  {
   "cell_type": "markdown",
   "id": "87e6a162-d68e-44f2-ae72-30c9613bada5",
   "metadata": {},
   "source": [
    "### Project 6"
   ]
  },
  {
   "cell_type": "code",
   "execution_count": 9,
   "id": "89041fbc-dbbf-4ea5-9652-971808bb1035",
   "metadata": {},
   "outputs": [],
   "source": [
    "import sqlite3 \n",
    "from sqlite3 import Error\n",
    "import csv\n",
    "import pandas as pd\n",
    "import warnings\n",
    "import pyodbc"
   ]
  },
  {
   "cell_type": "code",
   "execution_count": 13,
   "id": "5743cd1c-e250-4c90-8c07-a91346ea4974",
   "metadata": {},
   "outputs": [],
   "source": [
    "warnings.filterwarnings('ignore')\n",
    "warnings.simplefilter('ignore')\n",
    "\n",
    "pivoted_database = pd.read_csv(\"C:/Python/python_not_titanic/New Master File Pivoted.csv\")"
   ]
  },
  {
   "cell_type": "code",
   "execution_count": 14,
   "id": "7d319de8-54a1-45d9-b586-ff59ae8dc630",
   "metadata": {},
   "outputs": [
    {
     "name": "stdout",
     "output_type": "stream",
     "text": [
      "2.6.0\n"
     ]
    }
   ],
   "source": [
    "def create_connection(db_file):\n",
    "    \"\"\" create a database connection to a SQLite database \"\"\"\n",
    "    conn = None\n",
    "    try:\n",
    "        conn = sqlite3.connect(db_file)\n",
    "        print(sqlite3.version)\n",
    "    except Error as e:\n",
    "        print(e)\n",
    "    finally:\n",
    "        if conn:\n",
    "            conn.close()\n",
    "\n",
    "if __name__ == '__main__':\n",
    "    create_connection(r\"C:\\Python\\python_not_titanic\\pivoted_database.db\")"
   ]
  },
  {
   "cell_type": "code",
   "execution_count": 15,
   "id": "2b190172-4141-4cc9-a5d8-6fe8f3bfc21f",
   "metadata": {},
   "outputs": [],
   "source": [
    "conn = sqlite3.connect('C:\\Python\\python_not_titanic\\pivoted_database.db')\n",
    "cur = conn.cursor()"
   ]
  },
  {
   "cell_type": "code",
   "execution_count": 16,
   "id": "e922b2d3-540f-417b-86cf-03045aa97054",
   "metadata": {},
   "outputs": [
    {
     "data": {
      "text/plain": [
       "978710"
      ]
     },
     "execution_count": 16,
     "metadata": {},
     "output_type": "execute_result"
    }
   ],
   "source": [
    "pivoted_database.to_sql('pivoted_database',conn,)"
   ]
  }
 ],
 "metadata": {
  "kernelspec": {
   "display_name": "python_not_titanic",
   "language": "python",
   "name": "python_not_titanic"
  },
  "language_info": {
   "codemirror_mode": {
    "name": "ipython",
    "version": 3
   },
   "file_extension": ".py",
   "mimetype": "text/x-python",
   "name": "python",
   "nbconvert_exporter": "python",
   "pygments_lexer": "ipython3",
   "version": "3.9.12"
  }
 },
 "nbformat": 4,
 "nbformat_minor": 5
}
