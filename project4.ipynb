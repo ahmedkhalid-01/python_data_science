{
 "cells": [
  {
   "cell_type": "markdown",
   "id": "1fc4cbdd-ff03-42f4-bd1b-ab5e6da2a2c0",
   "metadata": {},
   "source": [
    "### Project 4"
   ]
  },
  {
   "cell_type": "code",
   "execution_count": 27,
   "id": "bc86b4fc-f9c5-4816-8043-cbb7a8d339d8",
   "metadata": {},
   "outputs": [],
   "source": [
    "import pandas as pd\n",
    "import os \n",
    "import warnings "
   ]
  },
  {
   "cell_type": "code",
   "execution_count": 28,
   "id": "74bbdb3b-7861-4451-bd76-3ac16281e103",
   "metadata": {},
   "outputs": [],
   "source": [
    "warnings.filterwarnings('ignore')\n",
    "warnings.simplefilter('ignore')\n",
    "\n",
    "df = pd.read_csv(\"C:/Python/python_not_titanic/Combined File.csv\", \n",
    "                 usecols = [\"RecordTime\", \"Pump 1 Derived Flow - Rate Of Change\"], index_col = [\"RecordTime\"])\n",
    "#print(df)"
   ]
  },
  {
   "cell_type": "code",
   "execution_count": 30,
   "id": "264d7388-80dd-420f-a59c-f9c93125ed52",
   "metadata": {},
   "outputs": [
    {
     "data": {
      "text/html": [
       "<div>\n",
       "<style scoped>\n",
       "    .dataframe tbody tr th:only-of-type {\n",
       "        vertical-align: middle;\n",
       "    }\n",
       "\n",
       "    .dataframe tbody tr th {\n",
       "        vertical-align: top;\n",
       "    }\n",
       "\n",
       "    .dataframe thead th {\n",
       "        text-align: right;\n",
       "    }\n",
       "</style>\n",
       "<table border=\"1\" class=\"dataframe\">\n",
       "  <thead>\n",
       "    <tr style=\"text-align: right;\">\n",
       "      <th></th>\n",
       "      <th>Pump 1 Derived Flow - Rate Of Change</th>\n",
       "    </tr>\n",
       "    <tr>\n",
       "      <th>RecordTime</th>\n",
       "      <th></th>\n",
       "    </tr>\n",
       "  </thead>\n",
       "  <tbody>\n",
       "    <tr>\n",
       "      <th>4/27/2020 12:42:40 AM</th>\n",
       "      <td>0</td>\n",
       "    </tr>\n",
       "    <tr>\n",
       "      <th>4/27/2020 12:43:30 AM</th>\n",
       "      <td>0</td>\n",
       "    </tr>\n",
       "    <tr>\n",
       "      <th>4/27/2020 1:41:07 AM</th>\n",
       "      <td>1000</td>\n",
       "    </tr>\n",
       "    <tr>\n",
       "      <th>4/27/2020 1:41:57 AM</th>\n",
       "      <td>0</td>\n",
       "    </tr>\n",
       "    <tr>\n",
       "      <th>4/27/2020 2:43:57 AM</th>\n",
       "      <td>1000</td>\n",
       "    </tr>\n",
       "    <tr>\n",
       "      <th>...</th>\n",
       "      <td>...</td>\n",
       "    </tr>\n",
       "    <tr>\n",
       "      <th>5/31/2020 11:38:50 PM</th>\n",
       "      <td>0</td>\n",
       "    </tr>\n",
       "    <tr>\n",
       "      <th>5/31/2020 11:39:09 PM</th>\n",
       "      <td>0</td>\n",
       "    </tr>\n",
       "    <tr>\n",
       "      <th>5/31/2020 11:42:17 PM</th>\n",
       "      <td>0</td>\n",
       "    </tr>\n",
       "    <tr>\n",
       "      <th>5/31/2020 11:47:57 PM</th>\n",
       "      <td>0</td>\n",
       "    </tr>\n",
       "    <tr>\n",
       "      <th>5/31/2020 11:53:52 PM</th>\n",
       "      <td>0</td>\n",
       "    </tr>\n",
       "  </tbody>\n",
       "</table>\n",
       "<p>984584 rows × 1 columns</p>\n",
       "</div>"
      ],
      "text/plain": [
       "                       Pump 1 Derived Flow - Rate Of Change\n",
       "RecordTime                                                 \n",
       "4/27/2020 12:42:40 AM                                     0\n",
       "4/27/2020 12:43:30 AM                                     0\n",
       "4/27/2020 1:41:07 AM                                   1000\n",
       "4/27/2020 1:41:57 AM                                      0\n",
       "4/27/2020 2:43:57 AM                                   1000\n",
       "...                                                     ...\n",
       "5/31/2020 11:38:50 PM                                     0\n",
       "5/31/2020 11:39:09 PM                                     0\n",
       "5/31/2020 11:42:17 PM                                     0\n",
       "5/31/2020 11:47:57 PM                                     0\n",
       "5/31/2020 11:53:52 PM                                     0\n",
       "\n",
       "[984584 rows x 1 columns]"
      ]
     },
     "metadata": {},
     "output_type": "display_data"
    }
   ],
   "source": [
    "df['Pump 1 Derived Flow - Rate Of Change'] = df['Pump 1 Derived Flow - Rate Of Change'].apply(lambda x: 1000 if x > 0 else 0)\n",
    "display(df)"
   ]
  }
 ],
 "metadata": {
  "kernelspec": {
   "display_name": "python_not_titanic",
   "language": "python",
   "name": "python_not_titanic"
  },
  "language_info": {
   "codemirror_mode": {
    "name": "ipython",
    "version": 3
   },
   "file_extension": ".py",
   "mimetype": "text/x-python",
   "name": "python",
   "nbconvert_exporter": "python",
   "pygments_lexer": "ipython3",
   "version": "3.9.12"
  }
 },
 "nbformat": 4,
 "nbformat_minor": 5
}
